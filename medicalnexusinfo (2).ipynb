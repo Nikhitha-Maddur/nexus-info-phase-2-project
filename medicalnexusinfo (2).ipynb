{
 "cells": [
  {
   "cell_type": "code",
   "execution_count": null,
   "id": "98e671d1",
   "metadata": {},
   "outputs": [],
   "source": [
    "\n",
    "# In[1]:\n",
    "\n",
    "\n",
    "# Importing the libraries \n",
    "\n",
    "import pandas as pd\n",
    "import numpy as np \n",
    "import matplotlib.pyplot as plt\n",
    "import seaborn as sns\n",
    "\n",
    "# Ignore harmless warnings \n",
    "\n",
    "import warnings \n",
    "warnings.filterwarnings(\"ignore\")\n",
    "\n",
    "# Set to display all the columns in dataset\n",
    "\n",
    "pd.set_option(\"display.max_columns\", None)\n",
    "\n",
    "# Import psql to run queries \n",
    "\n",
    "import pandasql as psql\n"
   ]
  },
  {
   "cell_type": "code",
   "execution_count": null,
   "id": "599ea25d",
   "metadata": {},
   "outputs": [],
   "source": [
    "# In[2]:\n",
    "\n",
    "\n",
    "import pandas as pd\n",
    "\n",
    "# Load the medical dataset from an Excel file\n",
    "file_path = r\"C:\\Users\\yadav\\Downloads\\medical_dataset.xlsx\"\n",
    "medical = pd.read_excel(file_path, header=0)\n",
    "\n",
    "# Copy the file to a backup file\n",
    "medical_BK = medical.copy()"
   ]
  },
  {
   "cell_type": "code",
   "execution_count": null,
   "id": "e09d765c",
   "metadata": {},
   "outputs": [],
   "source": [
    "# In[3]:\n",
    "\n",
    "\n",
    "medical.head(10)"
   ]
  },
  {
   "cell_type": "code",
   "execution_count": null,
   "id": "de2a5b2c",
   "metadata": {},
   "outputs": [],
   "source": [
    "# In[4]:\n",
    "\n",
    "\n",
    "medical.info()"
   ]
  },
  {
   "cell_type": "code",
   "execution_count": null,
   "id": "86643da2",
   "metadata": {},
   "outputs": [],
   "source": [
    "# In[5]:\n",
    "\n",
    "\n",
    "medical.nunique()\n"
   ]
  },
  {
   "cell_type": "code",
   "execution_count": null,
   "id": "e63b598c",
   "metadata": {},
   "outputs": [],
   "source": [
    "# In[6]:\n",
    "\n",
    "\n",
    "medical['Family Medical History'].value_counts()"
   ]
  },
  {
   "cell_type": "code",
   "execution_count": null,
   "id": "780c787f",
   "metadata": {},
   "outputs": [],
   "source": [
    "# In[7]:\n",
    "\n",
    "\n",
    "#use labelencoder to handle categorical data\n",
    "from sklearn.preprocessing import LabelEncoder\n",
    "LE=LabelEncoder()\n",
    "medical['Family Medical History']=LE.fit_transform(medical[['Family Medical History']])\n"
   ]
  },
  {
   "cell_type": "code",
   "execution_count": null,
   "id": "75c540fe",
   "metadata": {},
   "outputs": [],
   "source": [
    "# In[8]:\n",
    "\n",
    "\n",
    "medical['Family Medical History'].value_counts()\n"
   ]
  },
  {
   "cell_type": "code",
   "execution_count": null,
   "id": "386a5ec5",
   "metadata": {},
   "outputs": [],
   "source": [
    "# In[11]:\n",
    "\n",
    "\n",
    "#count the target or dependent variable by '0' &'1' and their proportion \n",
    "#(>=10:1,then the dataset is imbalance data) \n",
    "disease_count=medical['Family Medical History'].value_counts()\n",
    "print(\"Class 0:\",disease_count[0])\n",
    "print(\"Class 1\",disease_count[1])\n",
    "print(\"Class 2\",disease_count[2])\n",
    "print(\"Class 3\",disease_count[3])\n",
    "print('Proportion:',round(disease_count[0]/disease_count[1]/disease_count[2]/disease_count[3],4),':1')\n",
    "print('Total :',len(medical))"
   ]
  },
  {
   "cell_type": "code",
   "execution_count": null,
   "id": "2b50b260",
   "metadata": {},
   "outputs": [],
   "source": [
    "# In[12]:\n",
    "\n",
    "\n",
    "# Displaying Duplicate values with in dataset\n",
    "medical_dup= medical[medical.duplicated(keep='last')]\n",
    "\n",
    "# Display the duplicate records\n",
    "\n",
    "medical_dup\n"
   ]
  },
  {
   "cell_type": "code",
   "execution_count": null,
   "id": "f062ab59",
   "metadata": {},
   "outputs": [],
   "source": [
    "# In[13]:\n",
    "\n",
    "\n",
    "medical.isnull().sum()\n"
   ]
  },
  {
   "cell_type": "code",
   "execution_count": null,
   "id": "554ca69f",
   "metadata": {},
   "outputs": [],
   "source": [
    "# In[14]:\n",
    "\n",
    "\n",
    "del medical[\"Gender\"]\n",
    "del medical[\"Age\"]\n",
    "medical.head()\n"
   ]
  },
  {
   "cell_type": "code",
   "execution_count": null,
   "id": "abed5319",
   "metadata": {},
   "outputs": [],
   "source": [
    "# In[15]:\n",
    "\n",
    "\n",
    "medical.describe()\n"
   ]
  },
  {
   "cell_type": "code",
   "execution_count": null,
   "id": "b3dd1aef",
   "metadata": {},
   "outputs": [],
   "source": [
    "# In[16]:\n",
    "\n",
    "\n",
    "# Identify the independent and Target (dependent) variables\n",
    "\n",
    "IndepVar = []\n",
    "for col in medical.columns:\n",
    "    if col != 'Family Medical History':\n",
    "        IndepVar.append(col)\n",
    "\n",
    "TargetVar = 'Family Medical History'\n",
    "\n",
    "x =medical[IndepVar]\n",
    "y =medical[TargetVar]\n"
   ]
  },
  {
   "cell_type": "code",
   "execution_count": null,
   "id": "bddff3fe",
   "metadata": {},
   "outputs": [],
   "source": [
    "# In[17]:\n",
    "\n",
    "\n",
    "# Split the data into train and test (random sampling)\n",
    "\n",
    "from sklearn.model_selection import train_test_split \n",
    "\n",
    "x_train, x_test, y_train, y_test = train_test_split(x, y, test_size=0.3, random_state=42)\n",
    "\n",
    "# Display the shape for train & test data\n",
    "\n",
    "x_train.shape, x_test.shape, y_train.shape, y_test.shape"
   ]
  },
  {
   "cell_type": "code",
   "execution_count": null,
   "id": "487887bc",
   "metadata": {},
   "outputs": [],
   "source": [
    "# In[18]:\n",
    "\n",
    "\n",
    "# Scaling the features by using MinMaxScaler\n",
    "\n",
    "from sklearn.preprocessing import MinMaxScaler\n",
    "\n",
    "mmscaler = MinMaxScaler(feature_range=(0, 1))\n",
    "#since all x are indpendent variables\n",
    "x_train = mmscaler.fit_transform(x_train)\n",
    "x_train = pd.DataFrame(x_train)\n",
    "\n",
    "x_test= mmscaler.fit_transform(x_test)\n",
    "x_test = pd.DataFrame(x_test)\n",
    "\n"
   ]
  },
  {
   "cell_type": "code",
   "execution_count": null,
   "id": "acb6c977",
   "metadata": {},
   "outputs": [],
   "source": [
    "# In[21]:\n",
    "\n",
    "\n",
    "#load the result dataset \n",
    "medical_results=pd.read_csv(r\"C:\\Users\\yadav\\Downloads\\knnresults.csv\",header=0)\n",
    "medical_results.head()\n"
   ]
  },
  {
   "cell_type": "code",
   "execution_count": null,
   "id": "eaf63488",
   "metadata": {},
   "outputs": [],
   "source": [
    "pip install pandas numpy scikit-learn"
   ]
  },
  {
   "cell_type": "code",
   "execution_count": null,
   "id": "4fc6a398",
   "metadata": {},
   "outputs": [],
   "source": [
    "# In[33]:\n",
    "\n",
    "\n",
    "!pip install imbalanced-learn xgboost openpyxl\n"
   ]
  },
  {
   "cell_type": "code",
   "execution_count": null,
   "id": "03354e46",
   "metadata": {},
   "outputs": [],
   "source": [
    "# In[39]:\n",
    "\n",
    "\n",
    "import pandas as pd\n",
    "import numpy as np\n",
    "from sklearn.model_selection import train_test_split, GridSearchCV\n",
    "from sklearn.preprocessing import StandardScaler, LabelEncoder\n",
    "from sklearn.neighbors import KNeighborsClassifier\n",
    "from sklearn.tree import DecisionTreeClassifier\n",
    "from sklearn.ensemble import RandomForestClassifier, GradientBoostingClassifier, VotingClassifier\n",
    "from sklearn.linear_model import LogisticRegression\n",
    "from sklearn.metrics import accuracy_score, classification_report\n",
    "from imblearn.over_sampling import SMOTE\n",
    "import xgboost as xgb\n",
    "\n",
    "# Load the dataset\n",
    "file_path = r\"C:\\Users\\yadav\\Downloads\\medical_dataset.xlsx\"\n",
    "data = pd.read_excel(file_path, header=0)\n",
    "\n",
    "# Preprocessing\n",
    "le = LabelEncoder()\n",
    "data['Gender'] = le.fit_transform(data['Gender'])\n",
    "data['Family Medical History'] = le.fit_transform(data['Family Medical History'])\n",
    "\n",
    "# Splitting features and target variable\n",
    "X = data.drop('Family Medical History', axis=1)\n",
    "y = data['Family Medical History']\n",
    "\n",
    "# Splitting the dataset into training and testing sets\n",
    "X_train, X_test, y_train, y_test = train_test_split(X, y, test_size=0.2, random_state=42)\n",
    "\n",
    "# Feature scaling\n",
    "scaler = StandardScaler()\n",
    "X_train = scaler.fit_transform(X_train)\n",
    "X_test = scaler.transform(X_test)\n",
    "\n",
    "# Handle class imbalance using SMOTE\n",
    "smote = SMOTE(random_state=42)\n",
    "X_train_res, y_train_res = smote.fit_resample(X_train, y_train)\n",
    "\n",
    "# Hyperparameter tuning for Random Forest, XGBoost, and Gradient Boosting\n",
    "param_grid_rf = {\n",
    "    'n_estimators': [100, 200, 300],\n",
    "    'max_depth': [None, 10, 20],\n",
    "    'min_samples_split': [2, 5, 10],\n",
    "    'min_samples_leaf': [1, 2, 4]\n",
    "}\n",
    "\n",
    "param_grid_xgb = {\n",
    "    'n_estimators': [100, 200, 300],\n",
    "    'max_depth': [3, 6, 9],\n",
    "    'learning_rate': [0.01, 0.1, 0.2],\n",
    "    'subsample': [0.8, 1.0],\n",
    "    'colsample_bytree': [0.8, 1.0]\n",
    "}\n",
    "\n",
    "param_grid_gb = {\n",
    "    'n_estimators': [100, 200, 300],\n",
    "    'learning_rate': [0.01, 0.1, 0.2],\n",
    "    'max_depth': [3, 6, 9],\n",
    "    'subsample': [0.8, 1.0]\n",
    "}\n",
    "\n",
    "# Models initialization with refined hyperparameter tuning\n",
    "models = {\n",
    "    'KNN': KNeighborsClassifier(n_neighbors=5),  # Adjust KNN parameters\n",
    "    'Decision Tree': DecisionTreeClassifier(random_state=42),\n",
    "    'Random Forest': GridSearchCV(RandomForestClassifier(random_state=42), param_grid_rf, cv=3, n_jobs=-1, verbose=2),\n",
    "    'Logistic Regression': LogisticRegression(random_state=42, max_iter=1000),\n",
    "    'XGBoost': GridSearchCV(xgb.XGBClassifier(random_state=42), param_grid_xgb, cv=3, n_jobs=-1, verbose=2),\n",
    "    'Gradient Boosting': GridSearchCV(GradientBoostingClassifier(random_state=42), param_grid_gb, cv=3, n_jobs=-1, verbose=2)\n",
    "}\n",
    "\n",
    "# Function to evaluate models\n",
    "def evaluate_model(model, X_train, y_train, X_test, y_test):\n",
    "    model.fit(X_train, y_train)\n",
    "    y_pred = model.predict(X_test)\n",
    "    accuracy = accuracy_score(y_test, y_pred)\n",
    "    report = classification_report(y_test, y_pred)\n",
    "    return accuracy, report\n",
    "\n",
    "# Evaluating each model\n",
    "results = {}\n",
    "for model_name, model in models.items():\n",
    "    print(f\"Training {model_name}...\")\n",
    "    accuracy, report = evaluate_model(model, X_train_res, y_train_res, X_test, y_test)\n",
    "    results[model_name] = {'Accuracy': accuracy, 'Classification Report': report}\n",
    "\n",
    "# Displaying results\n",
    "for model_name, result in results.items():\n",
    "    print(f\"Model: {model_name}\")\n",
    "    print(f\"Accuracy: {result['Accuracy']:.2f}\")\n",
    "    print(\"Classification Report:\")\n",
    "    print(result['Classification Report'])\n",
    "    print(\"-\" * 50)\n"
   ]
  },
  {
   "cell_type": "code",
   "execution_count": null,
   "id": "aecf928f",
   "metadata": {},
   "outputs": [],
   "source": [
    "# In[40]:\n",
    "\n",
    "\n",
    "# Plotting bar graph for accuracies\n",
    "model_names = list(results.keys())\n",
    "accuracies = [results[model]['Accuracy'] for model in model_names]\n",
    "\n",
    "plt.figure(figsize=(10, 6))\n",
    "plt.bar(model_names, accuracies, color='skyblue')\n",
    "plt.xlabel('Models')\n",
    "plt.ylabel('Accuracy')\n",
    "plt.title('Accuracy Comparison of Models')\n",
    "plt.ylim([0, 1])\n",
    "plt.xticks(rotation=45)\n",
    "plt.tight_layout()\n",
    "plt.show()\n",
    "\n",
    "\n",
    "# In[ ]:"
   ]
  },
  {
   "cell_type": "code",
   "execution_count": null,
   "id": "a9d6fd22",
   "metadata": {},
   "outputs": [],
   "source": []
  }
 ],
 "metadata": {
  "kernelspec": {
   "display_name": "Python 3 (ipykernel)",
   "language": "python",
   "name": "python3"
  },
  "language_info": {
   "codemirror_mode": {
    "name": "ipython",
    "version": 3
   },
   "file_extension": ".py",
   "mimetype": "text/x-python",
   "name": "python",
   "nbconvert_exporter": "python",
   "pygments_lexer": "ipython3",
   "version": "3.11.5"
  }
 },
 "nbformat": 4,
 "nbformat_minor": 5
}
